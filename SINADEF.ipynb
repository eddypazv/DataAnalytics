{
  "nbformat": 4,
  "nbformat_minor": 0,
  "metadata": {
    "colab": {
      "name": "SINADEF.ipynb",
      "provenance": [],
      "collapsed_sections": []
    },
    "kernelspec": {
      "name": "python3",
      "display_name": "Python 3"
    },
    "language_info": {
      "name": "python"
    }
  },
  "cells": [
    {
      "cell_type": "code",
      "execution_count": 4,
      "metadata": {
        "id": "3F_AQp63nH6g"
      },
      "outputs": [],
      "source": [
        "import pandas as pd\n",
        "import numpy as np\n",
        "import datetime\n",
        "df_fallecido_SINADEF = pd.read_csv('/content/fallecidos_sinadef.csv', delimiter='|')"
      ]
    },
    {
      "cell_type": "code",
      "source": [
        "df_fallecido_SINADEF.rename(columns={'DEPARTAMENTO DOMICILIO':'DEPARTAMENTO','PROVINCIA DOMICILIO':'PROVINCIA','DISTRITO DOMICILIO':'DISTRITO'},inplace=True)"
      ],
      "metadata": {
        "id": "FAWiDt3vy8zb"
      },
      "execution_count": 5,
      "outputs": []
    },
    {
      "cell_type": "code",
      "source": [
        "#df_fallecido_SINADEF.head()"
      ],
      "metadata": {
        "id": "FUJhJmrlqPFa"
      },
      "execution_count": null,
      "outputs": []
    },
    {
      "cell_type": "code",
      "source": [
        "#df_fallecido_SINADEF.describe()"
      ],
      "metadata": {
        "id": "FF76b31WqXhC"
      },
      "execution_count": null,
      "outputs": []
    },
    {
      "cell_type": "code",
      "source": [
        "# Se decide eliminar las filas nulas de EDAD, PAIS DOMICILIO, DEPARTAMENTO, PROVINCIA, DISTRITO E INSTITUCION por representar un % bajo del total del dataset\n",
        "df_fallecido_SINADEF.dropna(subset=['EDAD','PAIS DOMICILIO','DEPARTAMENTO','PROVINCIA','DISTRITO','INSTITUCION'], inplace=True)\n",
        "# Para el campo Muerte Violenta se imputa NO SE CONOCE a los campos NULOS y VACIOS.\n",
        "df_fallecido_SINADEF.loc[df_fallecido_SINADEF['MUERTE VIOLENTA'].isnull(), 'MUERTE VIOLENTA'] = 'NO SE CONOCE' \n",
        "df_fallecido_SINADEF.loc[df_fallecido_SINADEF['MUERTE VIOLENTA']==' ', 'MUERTE VIOLENTA'] = 'NO SE CONOCE'\n",
        "# Para los campos de \"Debido a\" se imputa SIN REGISTRO a los campos NULOS\n",
        "df_fallecido_SINADEF.loc[df_fallecido_SINADEF['DEBIDO A (CAUSA A)'].isnull(), 'DEBIDO A (CAUSA A)'] = 'SIN REGISTRO' \n",
        "df_fallecido_SINADEF.loc[df_fallecido_SINADEF['DEBIDO A (CAUSA B)'].isnull(), 'DEBIDO A (CAUSA B)'] = 'SIN REGISTRO' \n",
        "df_fallecido_SINADEF.loc[df_fallecido_SINADEF['DEBIDO A (CAUSA C)'].isnull(), 'DEBIDO A (CAUSA C)'] = 'SIN REGISTRO' \n",
        "df_fallecido_SINADEF.loc[df_fallecido_SINADEF['DEBIDO A (CAUSA D)'].isnull(), 'DEBIDO A (CAUSA D)'] = 'SIN REGISTRO' \n",
        "df_fallecido_SINADEF.loc[df_fallecido_SINADEF['DEBIDO A (CAUSA E)'].isnull(), 'DEBIDO A (CAUSA E)'] = 'SIN REGISTRO'\n",
        "df_fallecido_SINADEF.loc[df_fallecido_SINADEF['DEBIDO A (CAUSA F)'].isnull(), 'DEBIDO A (CAUSA F)'] = 'SIN REGISTRO'\n",
        "# Se dropean las columnas \"Causas\" y UBIGEO por contener codigos que no aportan al analisis.\n",
        "df_fallecido_SINADEF = df_fallecido_SINADEF.drop(columns = ['CAUSA A (CIE-X)'])\n",
        "df_fallecido_SINADEF = df_fallecido_SINADEF.drop(columns = ['CAUSA B (CIE-X)'])\n",
        "df_fallecido_SINADEF = df_fallecido_SINADEF.drop(columns = ['CAUSA C (CIE-X)'])\n",
        "df_fallecido_SINADEF = df_fallecido_SINADEF.drop(columns = ['CAUSA D (CIE-X)'])\n",
        "df_fallecido_SINADEF = df_fallecido_SINADEF.drop(columns = ['CAUSA E (CIE-X)'])\n",
        "df_fallecido_SINADEF = df_fallecido_SINADEF.drop(columns = ['CAUSA F (CIE-X)'])\n",
        "df_fallecido_SINADEF = df_fallecido_SINADEF.drop(columns = ['COD# UBIGEO DOMICILIO'])\n",
        "#Mas del 90% de los registros corresponden a Peruanos, se eliminan los datos de extranjeros\n",
        "indices_eliminar = df_fallecido_SINADEF.loc[df_fallecido_SINADEF['PAIS DOMICILIO']!='PERU'].index.values\n",
        "df_fallecido_SINADEF = df_fallecido_SINADEF.drop(indices_eliminar)\n",
        "#Drop de la variable PAIS DOMICILIO porque ya contiene un único valor de PERU\n",
        "df_fallecido_SINADEF = df_fallecido_SINADEF.drop(columns = ['PAIS DOMICILIO'])\n",
        "#Drop del 1% de los registros que no indican Masculino o Femenino en la variable SEXO\n",
        "indices_eliminar = df_fallecido_SINADEF.loc[df_fallecido_SINADEF['SEXO'].isin(['INDETERMINADO','SIN REGISTRO'])].index.values\n",
        "df_fallecido_SINADEF = df_fallecido_SINADEF.drop(indices_eliminar)\n",
        "#Drop del 1% de los registros que no indica SIN REGISTRO en EDAD\n",
        "indices_eliminar = df_fallecido_SINADEF.loc[df_fallecido_SINADEF['EDAD']=='SIN REGISTRO'].index.values\n",
        "df_fallecido_SINADEF = df_fallecido_SINADEF.drop(indices_eliminar)\n",
        "#Mas del 90% de los registros corresponden a edades registradas en Años, se eliminan los datos en dias, horas, minutos, etc.\n",
        "indices_eliminar = df_fallecido_SINADEF.loc[df_fallecido_SINADEF['TIEMPO EDAD']!='AÑOS'].index.values\n",
        "df_fallecido_SINADEF = df_fallecido_SINADEF.drop(indices_eliminar)\n",
        "#Drop de la variable TIEMPO EDAD porque ya contiene un único valor de AÑOS\n",
        "df_fallecido_SINADEF = df_fallecido_SINADEF.drop(columns = ['TIEMPO EDAD'])\n",
        "# Para el campo ESTADO CIVIL se imputa SIN REGISTRO a los campos VACIOS.\n",
        "df_fallecido_SINADEF.loc[df_fallecido_SINADEF['ESTADO CIVIL']==' ', 'ESTADO CIVIL'] = 'SIN REGISTRO'\n",
        "# Drop del 1% de ESTADO CIVIL en SIN REGISTRO o IGNORADO\n",
        "indices_eliminar = df_fallecido_SINADEF.loc[df_fallecido_SINADEF['ESTADO CIVIL'].isin(['SIN REGISTRO','IGNORADO'])].index.values\n",
        "df_fallecido_SINADEF = df_fallecido_SINADEF.drop(indices_eliminar)\n",
        "# Drop del 1% de NIVEL DE INSTRUCCIÓN en SIN REGISTRO\n",
        "indices_eliminar = df_fallecido_SINADEF.loc[df_fallecido_SINADEF['NIVEL DE INSTRUCCIÓN']=='SIN REGISTRO'].index.values\n",
        "df_fallecido_SINADEF = df_fallecido_SINADEF.drop(indices_eliminar)\n",
        "# Drop del 1% de DEPARTAMENTO en SIN REGISTRO o VACIO\n",
        "indices_eliminar = df_fallecido_SINADEF.loc[df_fallecido_SINADEF['DEPARTAMENTO'].isin(['     ','SIN REGISTRO'])].index.values\n",
        "df_fallecido_SINADEF = df_fallecido_SINADEF.drop(indices_eliminar)\n",
        "# Drop del 1% de PROVINCIA en VACIO\n",
        "indices_eliminar = df_fallecido_SINADEF.loc[df_fallecido_SINADEF['PROVINCIA']==' '].index.values\n",
        "df_fallecido_SINADEF = df_fallecido_SINADEF.drop(indices_eliminar)\n",
        "# Drop del 1% de DISTRITO en SIN REGISTRO o VACIO\n",
        "indices_eliminar = df_fallecido_SINADEF.loc[df_fallecido_SINADEF['DISTRITO'].isin([' ','SIN REGISTRO'])].index.values\n",
        "df_fallecido_SINADEF = df_fallecido_SINADEF.drop(indices_eliminar)\n",
        "# Drop del 1% de TIPO LUGAR en SIN REGISTRO o IGNORADO\n",
        "indices_eliminar = df_fallecido_SINADEF.loc[df_fallecido_SINADEF['TIPO LUGAR'].isin(['IGNORADO','SIN REGISTRO'])].index.values\n",
        "df_fallecido_SINADEF = df_fallecido_SINADEF.drop(indices_eliminar)\n",
        "# Para el campo INSTITUCION se imputa SIN REGISTRO a los campos VACIOS.\n",
        "df_fallecido_SINADEF.loc[df_fallecido_SINADEF['INSTITUCION']==' ', 'INSTITUCION'] = 'SIN REGISTRO'"
      ],
      "metadata": {
        "id": "dv0y8DpuHWzQ"
      },
      "execution_count": 6,
      "outputs": []
    },
    {
      "cell_type": "code",
      "source": [
        "df_fallecido_SINADEF['SEXO'].replace(to_replace='MASCULINO',value='M', inplace = True)\n",
        "df_fallecido_SINADEF['SEXO'].replace(to_replace='FEMENINO',value='F', inplace = True)\n",
        "df_fallecido_SINADEF['EDAD']= df_fallecido_SINADEF['EDAD'].astype(int)\n",
        "df_fallecido_SINADEF.loc[df_fallecido_SINADEF['ESTADO CIVIL']=='CONVIVIENT/CONCUBINA', 'ESTADO CIVIL'] = 'CONVIVIENTE'\n",
        "df_fallecido_SINADEF.loc[df_fallecido_SINADEF['NIVEL DE INSTRUCCIÓN']=='INICIAL / PRE-ESCOLAR', 'NIVEL DE INSTRUCCIÓN'] = 'PRE-ESCOLAR'\n",
        "df_fallecido_SINADEF.loc[df_fallecido_SINADEF['NIVEL DE INSTRUCCIÓN']=='NINGUN NIVEL / ILETRADO', 'NIVEL DE INSTRUCCIÓN'] = 'ANALFABETO'\n",
        "df_fallecido_SINADEF['DEPARTAMENTO']= df_fallecido_SINADEF['DEPARTAMENTO'].str.lower()\n",
        "df_fallecido_SINADEF['PROVINCIA']= df_fallecido_SINADEF['PROVINCIA'].str.lower()\n",
        "df_fallecido_SINADEF['DISTRITO']= df_fallecido_SINADEF['DISTRITO'].str.lower()\n",
        "df_fallecido_SINADEF['FECHA']=pd.to_datetime(df_fallecido_SINADEF['FECHA'])\n",
        "df_fallecido_SINADEF['DIA'] = df_fallecido_SINADEF['FECHA'].dt.day\n",
        "df_fallecido_SINADEF = df_fallecido_SINADEF.drop(columns= ['FECHA'])"
      ],
      "metadata": {
        "id": "-SWOPQbrkT3D"
      },
      "execution_count": 7,
      "outputs": []
    },
    {
      "cell_type": "code",
      "source": [
        "df_fallecido_SINADEF.info()\n",
        "df_fallecido_SINADEF.isnull().sum()"
      ],
      "metadata": {
        "colab": {
          "base_uri": "https://localhost:8080/"
        },
        "id": "vDWJdnj2JoCb",
        "outputId": "1f8316f8-b067-45d9-f306-e87fdfdcb2d2"
      },
      "execution_count": 8,
      "outputs": [
        {
          "output_type": "stream",
          "name": "stdout",
          "text": [
            "<class 'pandas.core.frame.DataFrame'>\n",
            "Int64Index: 124930 entries, 0 to 133367\n",
            "Data columns (total 22 columns):\n",
            " #   Column                Non-Null Count   Dtype \n",
            "---  ------                --------------   ----- \n",
            " 0   Nº                    124930 non-null  int64 \n",
            " 1   TIPO SEGURO           124930 non-null  object\n",
            " 2   SEXO                  124930 non-null  object\n",
            " 3   EDAD                  124930 non-null  int64 \n",
            " 4   ESTADO CIVIL          124930 non-null  object\n",
            " 5   NIVEL DE INSTRUCCIÓN  124930 non-null  object\n",
            " 6   DEPARTAMENTO          124930 non-null  object\n",
            " 7   PROVINCIA             124930 non-null  object\n",
            " 8   DISTRITO              124930 non-null  object\n",
            " 9   AÑO                   124930 non-null  int64 \n",
            " 10  MES                   124930 non-null  int64 \n",
            " 11  TIPO LUGAR            124930 non-null  object\n",
            " 12  INSTITUCION           124930 non-null  object\n",
            " 13  MUERTE VIOLENTA       124930 non-null  object\n",
            " 14  NECROPSIA             124930 non-null  object\n",
            " 15  DEBIDO A (CAUSA A)    124930 non-null  object\n",
            " 16  DEBIDO A (CAUSA B)    124930 non-null  object\n",
            " 17  DEBIDO A (CAUSA C)    124930 non-null  object\n",
            " 18  DEBIDO A (CAUSA D)    124930 non-null  object\n",
            " 19  DEBIDO A (CAUSA E)    124930 non-null  object\n",
            " 20  DEBIDO A (CAUSA F)    124930 non-null  object\n",
            " 21  DIA                   124930 non-null  int64 \n",
            "dtypes: int64(5), object(17)\n",
            "memory usage: 21.9+ MB\n"
          ]
        },
        {
          "output_type": "execute_result",
          "data": {
            "text/plain": [
              "Nº                      0\n",
              "TIPO SEGURO             0\n",
              "SEXO                    0\n",
              "EDAD                    0\n",
              "ESTADO CIVIL            0\n",
              "NIVEL DE INSTRUCCIÓN    0\n",
              "DEPARTAMENTO            0\n",
              "PROVINCIA               0\n",
              "DISTRITO                0\n",
              "AÑO                     0\n",
              "MES                     0\n",
              "TIPO LUGAR              0\n",
              "INSTITUCION             0\n",
              "MUERTE VIOLENTA         0\n",
              "NECROPSIA               0\n",
              "DEBIDO A (CAUSA A)      0\n",
              "DEBIDO A (CAUSA B)      0\n",
              "DEBIDO A (CAUSA C)      0\n",
              "DEBIDO A (CAUSA D)      0\n",
              "DEBIDO A (CAUSA E)      0\n",
              "DEBIDO A (CAUSA F)      0\n",
              "DIA                     0\n",
              "dtype: int64"
            ]
          },
          "metadata": {},
          "execution_count": 8
        }
      ]
    },
    {
      "cell_type": "code",
      "source": [
        "import matplotlib.pyplot as plt\n",
        "import seaborn as sns"
      ],
      "metadata": {
        "id": "KL5RRsWdTmAg"
      },
      "execution_count": 9,
      "outputs": []
    },
    {
      "cell_type": "code",
      "source": [
        "sns.histplot(data=df_fallecido_SINADEF, x=\"EDAD\")"
      ],
      "metadata": {
        "colab": {
          "base_uri": "https://localhost:8080/",
          "height": 296
        },
        "id": "yo-Ds69uT1mJ",
        "outputId": "dab7fd77-eb08-4a7f-fbd7-d672915ccb89"
      },
      "execution_count": 10,
      "outputs": [
        {
          "output_type": "execute_result",
          "data": {
            "text/plain": [
              "<matplotlib.axes._subplots.AxesSubplot at 0x7fbf4354f6d0>"
            ]
          },
          "metadata": {},
          "execution_count": 10
        },
        {
          "output_type": "display_data",
          "data": {
            "image/png": "[encoded data removed]",
            "text/plain": [
              "<Figure size 432x288 with 1 Axes>"
            ]
          },
          "metadata": {
            "needs_background": "light"
          }
        }
      ]
    }
  ]
}